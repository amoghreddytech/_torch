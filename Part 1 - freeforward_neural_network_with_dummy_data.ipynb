{
 "cells": [
  {
   "cell_type": "markdown",
   "metadata": {},
   "source": [
    "### Feed Forward Neural Network\n"
   ]
  },
  {
   "cell_type": "code",
   "execution_count": 13,
   "metadata": {},
   "outputs": [
    {
     "data": {
      "text/plain": [
       "<torch._C.Generator at 0x16a9d8bf050>"
      ]
     },
     "execution_count": 13,
     "metadata": {},
     "output_type": "execute_result"
    }
   ],
   "source": [
    "import torch\n",
    "from torch import autograd,nn,optim\n",
    "import torch.nn.functional as F\n",
    "\n",
    "torch.backends.cudnn.deterministic = True\n",
    "torch.backends.cudnn.benchmark = False\n",
    "torch.manual_seed(326)\n"
   ]
  },
  {
   "cell_type": "code",
   "execution_count": 14,
   "metadata": {},
   "outputs": [],
   "source": [
    "# keep the hidden state high to add more non-linieraties\n",
    "batch_size = 5\n",
    "input_size = 3\n",
    "hidden_size = 400\n",
    "num_classes = 2\n",
    "learning_rate = 0.005"
   ]
  },
  {
   "cell_type": "code",
   "execution_count": 15,
   "metadata": {},
   "outputs": [
    {
     "name": "stdout",
     "output_type": "stream",
     "text": [
      "input: \n",
      " tensor([[0.9976, 0.2634, 0.4181],\n",
      "        [0.2633, 0.6259, 0.1629],\n",
      "        [0.2165, 0.4565, 0.9599],\n",
      "        [0.9657, 0.8649, 0.2225],\n",
      "        [0.9978, 0.8279, 0.4539]])\n"
     ]
    }
   ],
   "source": [
    "input = autograd.Variable(torch.rand(batch_size,input_size)) \n",
    "print(\"input: \\n\",input)"
   ]
  },
  {
   "cell_type": "code",
   "execution_count": 16,
   "metadata": {},
   "outputs": [
    {
     "name": "stdout",
     "output_type": "stream",
     "text": [
      "tensor([1, 1, 0, 1, 1])\n"
     ]
    }
   ],
   "source": [
    "target = (torch.rand(batch_size) * num_classes).long()\n",
    "\n",
    "print(target)"
   ]
  },
  {
   "cell_type": "code",
   "execution_count": 17,
   "metadata": {},
   "outputs": [],
   "source": [
    "class Model(nn.Module):\n",
    "    \n",
    "    def __init__(self,input_size,hidden_size,num_classes):\n",
    "        \n",
    "        super().__init__()\n",
    "        \n",
    "        self.h1 = nn.Linear(input_size,hidden_size)\n",
    "        self.h2 = nn.Linear(hidden_size,num_classes)\n",
    "\n",
    "    \n",
    "    def forward(self,x):\n",
    "        \n",
    "        x = self.h1(x)\n",
    "        x = torch.tanh(x)\n",
    "        x = self.h2(x)\n",
    "        x = F.softmax(x,dim=0)\n",
    "        \n",
    "        return(x)\n",
    "        "
   ]
  },
  {
   "cell_type": "code",
   "execution_count": 18,
   "metadata": {},
   "outputs": [
    {
     "name": "stdout",
     "output_type": "stream",
     "text": [
      "out \n",
      " tensor([[0.2036, 0.2286],\n",
      "        [0.2003, 0.1795],\n",
      "        [0.1932, 0.1838],\n",
      "        [0.2033, 0.2027],\n",
      "        [0.1996, 0.2055]], grad_fn=<SoftmaxBackward>)\n"
     ]
    }
   ],
   "source": [
    "model = Model(input_size = input_size,hidden_size = hidden_size,num_classes = num_classes)\n",
    "out = model(input)\n",
    "print('out \\n',out)\n"
   ]
  },
  {
   "cell_type": "markdown",
   "metadata": {},
   "source": [
    "### Since everything is random data, let's overfit to show the loss is going down"
   ]
  },
  {
   "cell_type": "code",
   "execution_count": 19,
   "metadata": {},
   "outputs": [
    {
     "name": "stdout",
     "output_type": "stream",
     "text": [
      "target: tensor([1, 1, 0, 1, 1])\n",
      "prediction: tensor([1, 0, 0, 0, 1])\n"
     ]
    }
   ],
   "source": [
    "#Print the first target and prediction\n",
    "print(\"target:\",target)\n",
    "_,pred = out.max(1)\n",
    "print(\"prediction:\",pred)"
   ]
  },
  {
   "cell_type": "code",
   "execution_count": 20,
   "metadata": {},
   "outputs": [
    {
     "name": "stdout",
     "output_type": "stream",
     "text": [
      "loss: tensor(-0.2019)\n"
     ]
    }
   ],
   "source": [
    "#Print the loss\n",
    "loss = F.nll_loss(out,target)\n",
    "print(\"loss:\",loss.data)"
   ]
  },
  {
   "cell_type": "code",
   "execution_count": 21,
   "metadata": {},
   "outputs": [],
   "source": [
    "model = Model(input_size = input_size,hidden_size = hidden_size,num_classes = num_classes)\n",
    "opt = optim.Adam(params=model.parameters(),lr=learning_rate)\n"
   ]
  },
  {
   "cell_type": "code",
   "execution_count": 22,
   "metadata": {},
   "outputs": [
    {
     "name": "stdout",
     "output_type": "stream",
     "text": [
      "target    : tensor([1, 1, 0, 1, 1])\n",
      "prediction: tensor([0, 1, 1, 1, 0])\n",
      "loss: tensor(-0.1982)\n",
      "target    : tensor([1, 1, 0, 1, 1])\n",
      "prediction: tensor([0, 1, 0, 1, 1])\n",
      "loss: tensor(-0.2247)\n",
      "target    : tensor([1, 1, 0, 1, 1])\n",
      "prediction: tensor([1, 1, 0, 1, 1])\n",
      "loss: tensor(-0.2516)\n",
      "target    : tensor([1, 1, 0, 1, 1])\n",
      "prediction: tensor([1, 0, 0, 1, 1])\n",
      "loss: tensor(-0.2787)\n",
      "target    : tensor([1, 1, 0, 1, 1])\n",
      "prediction: tensor([1, 0, 0, 1, 1])\n",
      "loss: tensor(-0.3051)\n",
      "target    : tensor([1, 1, 0, 1, 1])\n",
      "prediction: tensor([1, 1, 0, 1, 1])\n",
      "loss: tensor(-0.3291)\n",
      "target    : tensor([1, 1, 0, 1, 1])\n",
      "prediction: tensor([1, 1, 0, 1, 1])\n",
      "loss: tensor(-0.3493)\n",
      "target    : tensor([1, 1, 0, 1, 1])\n",
      "prediction: tensor([1, 1, 0, 1, 1])\n",
      "loss: tensor(-0.3650)\n",
      "target    : tensor([1, 1, 0, 1, 1])\n",
      "prediction: tensor([1, 1, 0, 1, 1])\n",
      "loss: tensor(-0.3763)\n",
      "target    : tensor([1, 1, 0, 1, 1])\n",
      "prediction: tensor([1, 1, 0, 1, 1])\n",
      "loss: tensor(-0.3842)\n",
      "target    : tensor([1, 1, 0, 1, 1])\n",
      "prediction: tensor([1, 1, 0, 1, 1])\n",
      "loss: tensor(-0.3894)\n",
      "target    : tensor([1, 1, 0, 1, 1])\n",
      "prediction: tensor([1, 1, 0, 1, 1])\n",
      "loss: tensor(-0.3929)\n",
      "target    : tensor([1, 1, 0, 1, 1])\n",
      "prediction: tensor([1, 1, 0, 1, 1])\n",
      "loss: tensor(-0.3951)\n",
      "target    : tensor([1, 1, 0, 1, 1])\n",
      "prediction: tensor([1, 1, 0, 1, 1])\n",
      "loss: tensor(-0.3966)\n",
      "target    : tensor([1, 1, 0, 1, 1])\n",
      "prediction: tensor([1, 1, 0, 1, 1])\n",
      "loss: tensor(-0.3976)\n",
      "target    : tensor([1, 1, 0, 1, 1])\n",
      "prediction: tensor([1, 1, 0, 1, 1])\n",
      "loss: tensor(-0.3983)\n",
      "target    : tensor([1, 1, 0, 1, 1])\n",
      "prediction: tensor([1, 1, 0, 1, 1])\n",
      "loss: tensor(-0.3987)\n",
      "target    : tensor([1, 1, 0, 1, 1])\n",
      "prediction: tensor([1, 1, 0, 1, 1])\n",
      "loss: tensor(-0.3990)\n",
      "target    : tensor([1, 1, 0, 1, 1])\n",
      "prediction: tensor([1, 1, 0, 1, 1])\n",
      "loss: tensor(-0.3993)\n",
      "target    : tensor([1, 1, 0, 1, 1])\n",
      "prediction: tensor([1, 1, 0, 1, 1])\n",
      "loss: tensor(-0.3994)\n",
      "target    : tensor([1, 1, 0, 1, 1])\n",
      "prediction: tensor([1, 1, 0, 1, 1])\n",
      "loss: tensor(-0.3995)\n",
      "target    : tensor([1, 1, 0, 1, 1])\n",
      "prediction: tensor([1, 1, 0, 1, 1])\n",
      "loss: tensor(-0.3996)\n",
      "target    : tensor([1, 1, 0, 1, 1])\n",
      "prediction: tensor([1, 1, 0, 1, 1])\n",
      "loss: tensor(-0.3997)\n",
      "target    : tensor([1, 1, 0, 1, 1])\n",
      "prediction: tensor([1, 1, 0, 1, 1])\n",
      "loss: tensor(-0.3997)\n",
      "target    : tensor([1, 1, 0, 1, 1])\n",
      "prediction: tensor([1, 1, 0, 1, 1])\n",
      "loss: tensor(-0.3998)\n",
      "target    : tensor([1, 1, 0, 1, 1])\n",
      "prediction: tensor([1, 1, 0, 1, 1])\n",
      "loss: tensor(-0.3998)\n",
      "target    : tensor([1, 1, 0, 1, 1])\n",
      "prediction: tensor([1, 1, 0, 1, 1])\n",
      "loss: tensor(-0.3998)\n",
      "target    : tensor([1, 1, 0, 1, 1])\n",
      "prediction: tensor([1, 1, 0, 1, 1])\n",
      "loss: tensor(-0.3999)\n",
      "target    : tensor([1, 1, 0, 1, 1])\n",
      "prediction: tensor([1, 1, 0, 1, 1])\n",
      "loss: tensor(-0.3999)\n",
      "target    : tensor([1, 1, 0, 1, 1])\n",
      "prediction: tensor([1, 1, 0, 1, 1])\n",
      "loss: tensor(-0.3999)\n",
      "target    : tensor([1, 1, 0, 1, 1])\n",
      "prediction: tensor([1, 1, 0, 1, 1])\n",
      "loss: tensor(-0.3999)\n",
      "target    : tensor([1, 1, 0, 1, 1])\n",
      "prediction: tensor([1, 1, 0, 1, 1])\n",
      "loss: tensor(-0.3999)\n",
      "target    : tensor([1, 1, 0, 1, 1])\n",
      "prediction: tensor([1, 1, 0, 1, 1])\n",
      "loss: tensor(-0.3999)\n",
      "target    : tensor([1, 1, 0, 1, 1])\n",
      "prediction: tensor([1, 1, 0, 1, 1])\n",
      "loss: tensor(-0.3999)\n",
      "target    : tensor([1, 1, 0, 1, 1])\n",
      "prediction: tensor([1, 1, 0, 1, 1])\n",
      "loss: tensor(-0.3999)\n",
      "target    : tensor([1, 1, 0, 1, 1])\n",
      "prediction: tensor([1, 1, 0, 1, 1])\n",
      "loss: tensor(-0.3999)\n",
      "target    : tensor([1, 1, 0, 1, 1])\n",
      "prediction: tensor([1, 1, 0, 1, 1])\n",
      "loss: tensor(-0.3999)\n",
      "target    : tensor([1, 1, 0, 1, 1])\n",
      "prediction: tensor([1, 1, 0, 1, 1])\n",
      "loss: tensor(-0.3999)\n",
      "target    : tensor([1, 1, 0, 1, 1])\n",
      "prediction: tensor([1, 1, 0, 1, 1])\n",
      "loss: tensor(-0.3999)\n",
      "target    : tensor([1, 1, 0, 1, 1])\n",
      "prediction: tensor([1, 1, 0, 1, 1])\n",
      "loss: tensor(-0.3999)\n",
      "target    : tensor([1, 1, 0, 1, 1])\n",
      "prediction: tensor([1, 1, 0, 1, 1])\n",
      "loss: tensor(-0.3999)\n",
      "target    : tensor([1, 1, 0, 1, 1])\n",
      "prediction: tensor([1, 1, 0, 1, 1])\n",
      "loss: tensor(-0.3999)\n",
      "target    : tensor([1, 1, 0, 1, 1])\n",
      "prediction: tensor([1, 1, 0, 1, 1])\n",
      "loss: tensor(-0.4000)\n",
      "target    : tensor([1, 1, 0, 1, 1])\n",
      "prediction: tensor([1, 1, 0, 1, 1])\n",
      "loss: tensor(-0.4000)\n",
      "target    : tensor([1, 1, 0, 1, 1])\n",
      "prediction: tensor([1, 1, 0, 1, 1])\n",
      "loss: tensor(-0.4000)\n",
      "target    : tensor([1, 1, 0, 1, 1])\n",
      "prediction: tensor([1, 1, 0, 1, 1])\n",
      "loss: tensor(-0.4000)\n",
      "target    : tensor([1, 1, 0, 1, 1])\n",
      "prediction: tensor([1, 1, 0, 1, 1])\n",
      "loss: tensor(-0.4000)\n",
      "target    : tensor([1, 1, 0, 1, 1])\n",
      "prediction: tensor([1, 1, 0, 1, 1])\n",
      "loss: tensor(-0.4000)\n",
      "target    : tensor([1, 1, 0, 1, 1])\n",
      "prediction: tensor([1, 1, 0, 1, 1])\n",
      "loss: tensor(-0.4000)\n",
      "target    : tensor([1, 1, 0, 1, 1])\n",
      "prediction: tensor([1, 1, 0, 1, 1])\n",
      "loss: tensor(-0.4000)\n"
     ]
    }
   ],
   "source": [
    "for epoch in range(50):    \n",
    "    out = model(input)\n",
    "    _,pred = out.max(1)\n",
    "    print(\"target    :\",target)\n",
    "    print(\"prediction:\",pred)\n",
    "\n",
    "    loss = F.nll_loss(out,target)\n",
    "    print(\"loss:\",loss.data)\n",
    "\n",
    "    model.zero_grad()\n",
    "    loss.backward(retain_graph=True)\n",
    "    opt.step()\n",
    "\n",
    "\n",
    "\n"
   ]
  },
  {
   "cell_type": "code",
   "execution_count": null,
   "metadata": {},
   "outputs": [],
   "source": []
  },
  {
   "cell_type": "code",
   "execution_count": null,
   "metadata": {},
   "outputs": [],
   "source": []
  }
 ],
 "metadata": {
  "kernelspec": {
   "display_name": "Python 3",
   "language": "python",
   "name": "python3"
  },
  "language_info": {
   "codemirror_mode": {
    "name": "ipython",
    "version": 3
   },
   "file_extension": ".py",
   "mimetype": "text/x-python",
   "name": "python",
   "nbconvert_exporter": "python",
   "pygments_lexer": "ipython3",
   "version": "3.7.3"
  }
 },
 "nbformat": 4,
 "nbformat_minor": 2
}
