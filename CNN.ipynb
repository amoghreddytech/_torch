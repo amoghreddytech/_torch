{
 "cells": [
  {
   "cell_type": "code",
   "execution_count": 127,
   "metadata": {},
   "outputs": [
    {
     "data": {
      "text/plain": [
       "<torch._C.Generator at 0x2793445d190>"
      ]
     },
     "execution_count": 127,
     "metadata": {},
     "output_type": "execute_result"
    }
   ],
   "source": [
    "from torchvision import datasets,transforms\n",
    "import torch\n",
    "from torch import nn\n",
    "import torch.nn.functional as F\n",
    "import numpy as np\n",
    "import matplotlib.pyplot as plt\n",
    "\n",
    "random_seed = 1\n",
    "torch.backends.cudnn.enabled = True\n",
    "torch.manual_seed(random_seed)"
   ]
  },
  {
   "cell_type": "code",
   "execution_count": 22,
   "metadata": {},
   "outputs": [],
   "source": [
    "transformation = transforms.Compose([\n",
    "    transforms.ToTensor()\n",
    "])"
   ]
  },
  {
   "cell_type": "code",
   "execution_count": 23,
   "metadata": {},
   "outputs": [],
   "source": [
    "train_dataset = datasets.MNIST('data/',train=True,download=True,transform=transformation)\n",
    "test_dataset = datasets.MNIST('data/',train=False,download=True,transform=transformation)"
   ]
  },
  {
   "cell_type": "code",
   "execution_count": 24,
   "metadata": {},
   "outputs": [],
   "source": [
    "train_loader = torch.utils.data.DataLoader(train_dataset,batch_size=10,shuffle=True)\n",
    "\n",
    "test_loader = torch.utils.data.DataLoader(test_dataset,batch_size=10,shuffle=True)"
   ]
  },
  {
   "cell_type": "code",
   "execution_count": 93,
   "metadata": {},
   "outputs": [
    {
     "name": "stdout",
     "output_type": "stream",
     "text": [
      "Number of batches: 6000\n",
      "Shape of each batch: (10, 1, 28, 28)\n",
      "shape of each image: (1, 28, 28)\n"
     ]
    }
   ],
   "source": [
    "train_data = next(iter(train_loader))\n",
    "\n",
    "print(\"Number of batches: {}\".format(len(train_loader)))\n",
    "\n",
    "print(\"Shape of each batch: {}\".format(np.array(train_data[0]).shape))\n",
    "\n",
    "print(\"shape of each image: {}\".format(np.array(train_data[0][1]).shape))\n",
    "\n",
    "\n"
   ]
  },
  {
   "cell_type": "code",
   "execution_count": 119,
   "metadata": {},
   "outputs": [],
   "source": [
    "def plot_image(image):\n",
    "    \n",
    "    image = image.numpy()[0]\n",
    "    plt.imshow(image,cmap='gray')\n",
    "    plt.show()\n",
    "\n",
    "    \n",
    "    \n",
    "    "
   ]
  },
  {
   "cell_type": "code",
   "execution_count": 193,
   "metadata": {},
   "outputs": [
    {
     "data": {
      "image/png": "[encoded data removed]",
      "text/plain": [
       "<Figure size 432x288 with 1 Axes>"
      ]
     },
     "metadata": {
      "needs_background": "light"
     },
     "output_type": "display_data"
    },
    {
     "data": {
      "image/png": "[encoded data removed]",
      "text/plain": [
       "<Figure size 432x288 with 1 Axes>"
      ]
     },
     "metadata": {
      "needs_background": "light"
     },
     "output_type": "display_data"
    }
   ],
   "source": [
    "plot_image(train_data[0][0])\n",
    "plot_image(train_data[0][1])\n"
   ]
  },
  {
   "cell_type": "code",
   "execution_count": 208,
   "metadata": {},
   "outputs": [
    {
     "name": "stdout",
     "output_type": "stream",
     "text": [
      "(28, 28)\n"
     ]
    }
   ],
   "source": [
    "#Let's investigate the data\n",
    "\n",
    "test = np.array(train_data[0][0])\n",
    "print(np.shape(test[0]))\n",
    "#uncomment that line of code to see the pixel values\n",
    "# print(test[0]) \n",
    "\n",
    "#It looks like the data is not between 0 and 255, but between 0 and 1\n",
    "classes = ('0','1','2','3','4','5','6','7','8','9')\n"
   ]
  },
  {
   "cell_type": "code",
   "execution_count": 226,
   "metadata": {},
   "outputs": [],
   "source": [
    "class MaxPoll(nn.Module):\n",
    "    \n",
    "    def __init__(self,kernal_size):\n",
    "        \n",
    "        super().__init__()\n",
    "        self.kernal_size = kernal_size\n",
    "        self.conv1 = nn.Conv2d(1,10,kernel_size=self.kernal_size)\n",
    "    \n",
    "    def forward(self,x):\n",
    "        \n",
    "        x = F.max_pool2d(self.conv1(x),2)\n",
    "        \n",
    "        return(x)\n",
    "\n",
    "    \n",
    "def get_new_image(batch,kernal_size):\n",
    "    \n",
    "    model = MaxPoll(kernal_size)\n",
    "    img = model.forward(test_tensor)\n",
    "    img = img.data.numpy()\n",
    "    return(img[0][0])\n",
    "    "
   ]
  },
  {
   "cell_type": "code",
   "execution_count": 227,
   "metadata": {},
   "outputs": [],
   "source": [
    "first_batch = torch.from_numpy(test).float().cpu()\n",
    "first_batch = test_tensor.unsqueeze(0)\n",
    "# model = MaxPoll()\n",
    "# test_img = model.forward(test_tensor)\n",
    "# test_img = test_img.data.numpy()"
   ]
  },
  {
   "cell_type": "code",
   "execution_count": 228,
   "metadata": {},
   "outputs": [],
   "source": [
    "#Let's see what different kernal sizes do \n",
    "img1 = get_new_image(first_batch,1)\n",
    "img2 = get_new_image(first_batch,2)\n",
    "img3 = get_new_image(first_batch,3)"
   ]
  },
  {
   "cell_type": "code",
   "execution_count": 229,
   "metadata": {},
   "outputs": [
    {
     "name": "stdout",
     "output_type": "stream",
     "text": [
      "Original image\n"
     ]
    },
    {
     "data": {
      "image/png": "[encoded data removed]",
      "text/plain": [
       "<Figure size 432x288 with 1 Axes>"
      ]
     },
     "metadata": {
      "needs_background": "light"
     },
     "output_type": "display_data"
    },
    {
     "name": "stdout",
     "output_type": "stream",
     "text": [
      "kernal size 1 with Max Polling\n"
     ]
    },
    {
     "data": {
      "image/png": "[encoded data removed]",
      "text/plain": [
       "<Figure size 432x288 with 1 Axes>"
      ]
     },
     "metadata": {
      "needs_background": "light"
     },
     "output_type": "display_data"
    },
    {
     "name": "stdout",
     "output_type": "stream",
     "text": [
      "kernal size 2 with Max Polling\n"
     ]
    },
    {
     "data": {
      "image/png": "[encoded data removed]",
      "text/plain": [
       "<Figure size 432x288 with 1 Axes>"
      ]
     },
     "metadata": {
      "needs_background": "light"
     },
     "output_type": "display_data"
    },
    {
     "name": "stdout",
     "output_type": "stream",
     "text": [
      "kernal size 3 with Max Polling\n"
     ]
    },
    {
     "data": {
      "image/png": "[encoded data removed]",
      "text/plain": [
       "<Figure size 432x288 with 1 Axes>"
      ]
     },
     "metadata": {
      "needs_background": "light"
     },
     "output_type": "display_data"
    }
   ],
   "source": [
    "print(\"Original image\")\n",
    "plot_image(first_batch[0][0])\n",
    "\n",
    "print(\"kernal size 1 with Max Polling\")\n",
    "plt.imshow(img1,cmap=\"gray\")\n",
    "plt.show()\n",
    "\n",
    "print(\"kernal size 2 with Max Polling\")\n",
    "plt.imshow(img2,cmap=\"gray\")\n",
    "plt.show()\n",
    "\n",
    "print(\"kernal size 3 with Max Polling\")\n",
    "plt.imshow(img3,cmap=\"gray\")\n",
    "plt.show()\n",
    "\n",
    "\n"
   ]
  },
  {
   "cell_type": "code",
   "execution_count": 230,
   "metadata": {},
   "outputs": [],
   "source": [
    "class AvgPoll(nn.Module):\n",
    "    \n",
    "    def __init__(self,kernal_size):\n",
    "        \n",
    "        super().__init__()\n",
    "        self.kernal_size = kernal_size\n",
    "        self.conv1 = nn.Conv2d(1,10,kernel_size=self.kernal_size)\n",
    "    \n",
    "    def forward(self,x):\n",
    "        \n",
    "        x = F.avg_pool2d(self.conv1(x),2)\n",
    "        \n",
    "        return(x)\n",
    "\n",
    "    \n",
    "def get_new_image(batch,kernal_size):\n",
    "    \n",
    "    model = AvgPoll(kernal_size)\n",
    "    img = model.forward(test_tensor)\n",
    "    img = img.data.numpy()\n",
    "    return(img[0][0])\n",
    "    "
   ]
  },
  {
   "cell_type": "code",
   "execution_count": 231,
   "metadata": {},
   "outputs": [],
   "source": [
    "img1 = get_new_image(first_batch,1)\n",
    "img2 = get_new_image(first_batch,2)\n",
    "img3 = get_new_image(first_batch,3)"
   ]
  },
  {
   "cell_type": "code",
   "execution_count": 232,
   "metadata": {},
   "outputs": [
    {
     "name": "stdout",
     "output_type": "stream",
     "text": [
      "Original image\n"
     ]
    },
    {
     "data": {
      "image/png": "[encoded data removed]",
      "text/plain": [
       "<Figure size 432x288 with 1 Axes>"
      ]
     },
     "metadata": {
      "needs_background": "light"
     },
     "output_type": "display_data"
    },
    {
     "name": "stdout",
     "output_type": "stream",
     "text": [
      "kernal size 1 with Average Polling\n"
     ]
    },
    {
     "data": {
      "image/png": "[encoded data removed]",
      "text/plain": [
       "<Figure size 432x288 with 1 Axes>"
      ]
     },
     "metadata": {
      "needs_background": "light"
     },
     "output_type": "display_data"
    },
    {
     "name": "stdout",
     "output_type": "stream",
     "text": [
      "kernal size 2 with Average Polling\n"
     ]
    },
    {
     "data": {
      "image/png": "[encoded data removed]",
      "text/plain": [
       "<Figure size 432x288 with 1 Axes>"
      ]
     },
     "metadata": {
      "needs_background": "light"
     },
     "output_type": "display_data"
    },
    {
     "name": "stdout",
     "output_type": "stream",
     "text": [
      "kernal size 3 with Average Polling\n"
     ]
    },
    {
     "data": {
      "image/png": "[encoded data removed]",
      "text/plain": [
       "<Figure size 432x288 with 1 Axes>"
      ]
     },
     "metadata": {
      "needs_background": "light"
     },
     "output_type": "display_data"
    }
   ],
   "source": [
    "print(\"Original image\")\n",
    "plot_image(first_batch[0][0])\n",
    "\n",
    "print(\"kernal size 1 with Average Polling\")\n",
    "plt.imshow(img1,cmap=\"gray\")\n",
    "plt.show()\n",
    "\n",
    "print(\"kernal size 2 with Average Polling\")\n",
    "plt.imshow(img2,cmap=\"gray\")\n",
    "plt.show()\n",
    "\n",
    "print(\"kernal size 3 with Average Polling\")\n",
    "plt.imshow(img3,cmap=\"gray\")\n",
    "plt.show()\n"
   ]
  },
  {
   "cell_type": "code",
   "execution_count": null,
   "metadata": {},
   "outputs": [],
   "source": []
  }
 ],
 "metadata": {
  "kernelspec": {
   "display_name": "Python 3",
   "language": "python",
   "name": "python3"
  },
  "language_info": {
   "codemirror_mode": {
    "name": "ipython",
    "version": 3
   },
   "file_extension": ".py",
   "mimetype": "text/x-python",
   "name": "python",
   "nbconvert_exporter": "python",
   "pygments_lexer": "ipython3",
   "version": "3.7.3"
  }
 },
 "nbformat": 4,
 "nbformat_minor": 2
}
